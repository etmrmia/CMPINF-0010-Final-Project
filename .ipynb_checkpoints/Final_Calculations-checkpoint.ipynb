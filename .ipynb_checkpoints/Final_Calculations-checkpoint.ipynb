{
 "cells": [
  {
   "cell_type": "markdown",
   "metadata": {},
   "source": [
    "<h1>Final Calculations</h1>"
   ]
  },
  {
   "cell_type": "markdown",
   "metadata": {},
   "source": [
    "<h3>Introduction</h3>\n",
    "If a zombie apocalypse were to occur, the likelihood of survivng would be slim. A person would be more likely to turn into a zombie. Therefore, our way of determining the best neighborhood in Pittsburgh would be the best place for a zombie to survive. "
   ]
  },
  {
   "cell_type": "markdown",
   "metadata": {},
   "source": [
    "### The Metric\n",
    "By analyzing our main metric, the survival difficulty for zombies, we developed the three sub-metrics: population density, obesity rate, and Walk Scores. The first sub-metric searches for the area with the highest population density, where enormous food is provided to our zombies; the second sub-metric seeks the area with the highest obesity rate, where humans tend to be easier to catch and larger in size; the last sub-metric explores the area with the highest Walk Score, or easiest access to amenities, where human survivors (or zombie food) like to approach for resources. We measure these three aspects of the neighborhoods to determine the one that provides the best environment for zombies to survive in Pittsburgh. \n",
    "Datasets used include Population Density 2010, Allegheny County Obesity Rates, Allegheny County Walk Scores, 2010 Census Tracts, and Neighborhoods."
   ]
  },
  {
   "cell_type": "markdown",
   "metadata": {},
   "source": [
    "<h3>Combining and Analyzing Data</h3>"
   ]
  },
  {
   "cell_type": "markdown",
   "metadata": {},
   "source": [
    "<h4>Importing and Organizing Data to Merge</h4>"
   ]
  },
  {
   "cell_type": "code",
   "execution_count": 59,
   "metadata": {},
   "outputs": [],
   "source": [
    "import pandas as pd\n",
    "%matplotlib inline\n",
    "import matplotlib.pyplot as plt\n",
    "\n",
    "# load obesity data and map data\n",
    "obesity_data_pandas = pd.read_csv(\"obesity-ac-2006-2010censustracts.csv\", index_col=\"stname\")\n",
    "popden = pd.read_csv(\"population-density.xls.csv\",index_col = \"Neighborhood\")\n",
    "censusTract = pd.read_csv(\"https://data.wprdc.org/datastore/dump/9756af5f-3320-4601-84e2-347d64071e25\")\n",
    "walkScore = pd.read_csv(\"https://data.wprdc.org/dataset/4d3d4324-b32a-4519-b56f-cee2340057bf/resource/\"\n",
    "                                       + \"682b1df1-a63b-4413-9362-ba077af63baa/download/walkscorect.xls-walk-score-by-ct.csv\")"
   ]
  },
  {
   "cell_type": "code",
   "execution_count": 60,
   "metadata": {},
   "outputs": [
    {
     "data": {
      "text/html": [
       "<div>\n",
       "<style scoped>\n",
       "    .dataframe tbody tr th:only-of-type {\n",
       "        vertical-align: middle;\n",
       "    }\n",
       "\n",
       "    .dataframe tbody tr th {\n",
       "        vertical-align: top;\n",
       "    }\n",
       "\n",
       "    .dataframe thead th {\n",
       "        text-align: right;\n",
       "    }\n",
       "</style>\n",
       "<table border=\"1\" class=\"dataframe\">\n",
       "  <thead>\n",
       "    <tr style=\"text-align: right;\">\n",
       "      <th></th>\n",
       "      <th>Pop. 2010</th>\n",
       "      <th>Land Area (acres)</th>\n",
       "      <th>Pop. 2010 Ranking</th>\n",
       "      <th>Land Area Ranking</th>\n",
       "      <th>Average Ranking</th>\n",
       "    </tr>\n",
       "    <tr>\n",
       "      <th>Neighborhood</th>\n",
       "      <th></th>\n",
       "      <th></th>\n",
       "      <th></th>\n",
       "      <th></th>\n",
       "      <th></th>\n",
       "    </tr>\n",
       "  </thead>\n",
       "  <tbody>\n",
       "    <tr>\n",
       "      <th>Squirrel Hill South</th>\n",
       "      <td>15110</td>\n",
       "      <td>1709.44</td>\n",
       "      <td>1.0</td>\n",
       "      <td>1.0</td>\n",
       "      <td>1.0</td>\n",
       "    </tr>\n",
       "    <tr>\n",
       "      <th>Brookline</th>\n",
       "      <td>13214</td>\n",
       "      <td>1332.48</td>\n",
       "      <td>3.0</td>\n",
       "      <td>2.0</td>\n",
       "      <td>2.5</td>\n",
       "    </tr>\n",
       "    <tr>\n",
       "      <th>Carrick</th>\n",
       "      <td>10113</td>\n",
       "      <td>1070.72</td>\n",
       "      <td>6.0</td>\n",
       "      <td>5.0</td>\n",
       "      <td>5.5</td>\n",
       "    </tr>\n",
       "    <tr>\n",
       "      <th>Squirrel Hill North</th>\n",
       "      <td>11363</td>\n",
       "      <td>782.08</td>\n",
       "      <td>4.0</td>\n",
       "      <td>9.0</td>\n",
       "      <td>6.5</td>\n",
       "    </tr>\n",
       "    <tr>\n",
       "      <th>Beechview</th>\n",
       "      <td>7974</td>\n",
       "      <td>934.40</td>\n",
       "      <td>9.0</td>\n",
       "      <td>7.0</td>\n",
       "      <td>8.0</td>\n",
       "    </tr>\n",
       "    <tr>\n",
       "      <th>Mount Washington</th>\n",
       "      <td>8799</td>\n",
       "      <td>729.60</td>\n",
       "      <td>7.0</td>\n",
       "      <td>12.0</td>\n",
       "      <td>9.5</td>\n",
       "    </tr>\n",
       "    <tr>\n",
       "      <th>Shadyside</th>\n",
       "      <td>13915</td>\n",
       "      <td>589.44</td>\n",
       "      <td>2.0</td>\n",
       "      <td>20.0</td>\n",
       "      <td>11.0</td>\n",
       "    </tr>\n",
       "    <tr>\n",
       "      <th>Lincoln-Lemington-Belmar</th>\n",
       "      <td>4883</td>\n",
       "      <td>1159.68</td>\n",
       "      <td>20.0</td>\n",
       "      <td>3.0</td>\n",
       "      <td>11.5</td>\n",
       "    </tr>\n",
       "    <tr>\n",
       "      <th>Brighton Heights</th>\n",
       "      <td>7247</td>\n",
       "      <td>714.88</td>\n",
       "      <td>11.0</td>\n",
       "      <td>13.0</td>\n",
       "      <td>12.0</td>\n",
       "    </tr>\n",
       "    <tr>\n",
       "      <th>Marshall-Shadeland</th>\n",
       "      <td>6043</td>\n",
       "      <td>802.56</td>\n",
       "      <td>16.0</td>\n",
       "      <td>8.0</td>\n",
       "      <td>12.0</td>\n",
       "    </tr>\n",
       "  </tbody>\n",
       "</table>\n",
       "</div>"
      ],
      "text/plain": [
       "                          Pop. 2010  Land Area (acres)  Pop. 2010 Ranking  \\\n",
       "Neighborhood                                                                \n",
       "Squirrel Hill South           15110            1709.44                1.0   \n",
       "Brookline                     13214            1332.48                3.0   \n",
       "Carrick                       10113            1070.72                6.0   \n",
       "Squirrel Hill North           11363             782.08                4.0   \n",
       "Beechview                      7974             934.40                9.0   \n",
       "Mount Washington               8799             729.60                7.0   \n",
       "Shadyside                     13915             589.44                2.0   \n",
       "Lincoln-Lemington-Belmar       4883            1159.68               20.0   \n",
       "Brighton Heights               7247             714.88               11.0   \n",
       "Marshall-Shadeland             6043             802.56               16.0   \n",
       "\n",
       "                          Land Area Ranking  Average Ranking  \n",
       "Neighborhood                                                  \n",
       "Squirrel Hill South                     1.0              1.0  \n",
       "Brookline                               2.0              2.5  \n",
       "Carrick                                 5.0              5.5  \n",
       "Squirrel Hill North                     9.0              6.5  \n",
       "Beechview                               7.0              8.0  \n",
       "Mount Washington                       12.0              9.5  \n",
       "Shadyside                              20.0             11.0  \n",
       "Lincoln-Lemington-Belmar                3.0             11.5  \n",
       "Brighton Heights                       13.0             12.0  \n",
       "Marshall-Shadeland                      8.0             12.0  "
      ]
     },
     "execution_count": 60,
     "metadata": {},
     "output_type": "execute_result"
    }
   ],
   "source": [
    "# changes pop. 2010 and land area(acres) from strings to int/float\n",
    "popden['Pop. 2010'] = popden['Pop. 2010'].astype(int)\n",
    "popden['Land Area (acres)'] = popden['Land Area (acres)'].astype(float)\n",
    "\n",
    "# ranks population, land area, and final ranking\n",
    "popden['Pop. 2010 Ranking'] = popden['Pop. 2010'].rank(ascending = False)\n",
    "popden['Land Area Ranking'] = popden['Land Area (acres)'].rank(ascending = False)\n",
    "popden['Average Ranking'] = (popden['Pop. 2010 Ranking'] + popden['Land Area Ranking'])/2\n",
    "\n",
    "# filters data to display only pop. 2010, land area(acres), and rankings\n",
    "rpopden = popden.iloc[:,[8,16,33,34,35]]\n",
    "\n",
    "# sorts data by final ranking\n",
    "rpopden.sort_values(by = ['Average Ranking']).head(10)"
   ]
  },
  {
   "cell_type": "code",
   "execution_count": 61,
   "metadata": {},
   "outputs": [
    {
     "data": {
      "text/plain": [
       "Neighborhood\n",
       "Allegheny West         86.0\n",
       "Allentown              63.0\n",
       "Arlington              26.0\n",
       "Banksville             48.0\n",
       "Bedford Dwellings      77.0\n",
       "                       ... \n",
       "Upper Hill             74.0\n",
       "Upper Lawrenceville    49.0\n",
       "West Oakland           71.0\n",
       "Westwood               54.0\n",
       "Windgap                22.0\n",
       "Name: Walk Score, Length: 79, dtype: float64"
      ]
     },
     "execution_count": 61,
     "metadata": {},
     "output_type": "execute_result"
    }
   ],
   "source": [
    "# Organizing walk score data. (Look at walkscore notebook for more information)\n",
    "censusTract = censusTract[['tractce10','hood']]\n",
    "\n",
    "censusTract.rename(columns={'tractce10': 'Census Tract'}, inplace=True)\n",
    "\n",
    "walkScore = pd.merge(censusTract, walkScore)\n",
    "\n",
    "# Display the new data table. \n",
    "walkScore.rename(columns={'hood': 'Neighborhood'}, inplace=True)\n",
    "walkScore = walkScore.groupby(\"Neighborhood\").mean()['Walk Score']\n",
    "walkScore"
   ]
  },
  {
   "cell_type": "code",
   "execution_count": 62,
   "metadata": {},
   "outputs": [
    {
     "data": {
      "text/plain": [
       "Neighborhood\n",
       "Northview Heights            0.922932\n",
       "Fairywood                    0.820311\n",
       "California Kirkbride         0.771046\n",
       "Saint Clair                  0.699500\n",
       "Terrace Village              0.674103\n",
       "Central Business District    0.668012\n",
       "Bedford Dwellings            0.636222\n",
       "Homewood South               0.609697\n",
       "Middle Hill                  0.608099\n",
       "Homewood North               0.596425\n",
       "Lincoln-Lemington-Belmar     0.578902\n",
       "Homewood West                0.565710\n",
       "East Hills                   0.562137\n",
       "Garfield                     0.525117\n",
       "Larimer                      0.517559\n",
       "Fineview                     0.499129\n",
       "Manchester                   0.498043\n",
       "Crawford Roberts             0.488691\n",
       "Marshall-Shadeland           0.480103\n",
       "Beltzhoover                  0.479978\n",
       "Name: 2006-2010 estimate of obesity, dtype: float64"
      ]
     },
     "execution_count": 62,
     "metadata": {},
     "output_type": "execute_result"
    }
   ],
   "source": [
    "# filter obesity rates by neighborhood and sort from highest rate to lowest rate\n",
    "obesity_data_pandas.rename(columns={'City Neighborhood': 'Neighborhood'}, inplace=True)\n",
    "obesity_rates_by_neighborhood = obesity_data_pandas.groupby('Neighborhood').mean()['2006-2010 estimate of obesity']\n",
    "obesity_rates_by_neighborhood.sort_values(ascending=False).head(20)"
   ]
  },
  {
   "cell_type": "markdown",
   "metadata": {},
   "source": [
    "<h4>Merging Data by Neighborhood</h4>"
   ]
  },
  {
   "cell_type": "code",
   "execution_count": 63,
   "metadata": {},
   "outputs": [
    {
     "data": {
      "text/html": [
       "<div>\n",
       "<style scoped>\n",
       "    .dataframe tbody tr th:only-of-type {\n",
       "        vertical-align: middle;\n",
       "    }\n",
       "\n",
       "    .dataframe tbody tr th {\n",
       "        vertical-align: top;\n",
       "    }\n",
       "\n",
       "    .dataframe thead th {\n",
       "        text-align: right;\n",
       "    }\n",
       "</style>\n",
       "<table border=\"1\" class=\"dataframe\">\n",
       "  <thead>\n",
       "    <tr style=\"text-align: right;\">\n",
       "      <th></th>\n",
       "      <th>Average Ranking</th>\n",
       "      <th>Walk Score</th>\n",
       "      <th>2006-2010 estimate of obesity</th>\n",
       "    </tr>\n",
       "    <tr>\n",
       "      <th>Neighborhood</th>\n",
       "      <th></th>\n",
       "      <th></th>\n",
       "      <th></th>\n",
       "    </tr>\n",
       "  </thead>\n",
       "  <tbody>\n",
       "    <tr>\n",
       "      <th>Allegheny West</th>\n",
       "      <td>84.00</td>\n",
       "      <td>6.0</td>\n",
       "      <td>82.0</td>\n",
       "    </tr>\n",
       "    <tr>\n",
       "      <th>Allentown</th>\n",
       "      <td>55.50</td>\n",
       "      <td>35.0</td>\n",
       "      <td>37.0</td>\n",
       "    </tr>\n",
       "    <tr>\n",
       "      <th>Arlington</th>\n",
       "      <td>48.50</td>\n",
       "      <td>72.5</td>\n",
       "      <td>43.0</td>\n",
       "    </tr>\n",
       "    <tr>\n",
       "      <th>Banksville</th>\n",
       "      <td>21.25</td>\n",
       "      <td>54.5</td>\n",
       "      <td>78.0</td>\n",
       "    </tr>\n",
       "    <tr>\n",
       "      <th>Bedford Dwellings</th>\n",
       "      <td>75.00</td>\n",
       "      <td>13.5</td>\n",
       "      <td>7.0</td>\n",
       "    </tr>\n",
       "    <tr>\n",
       "      <th>...</th>\n",
       "      <td>...</td>\n",
       "      <td>...</td>\n",
       "      <td>...</td>\n",
       "    </tr>\n",
       "    <tr>\n",
       "      <th>Terrace Village</th>\n",
       "      <td>46.00</td>\n",
       "      <td>38.5</td>\n",
       "      <td>5.0</td>\n",
       "    </tr>\n",
       "    <tr>\n",
       "      <th>Upper Hill</th>\n",
       "      <td>56.50</td>\n",
       "      <td>18.0</td>\n",
       "      <td>22.0</td>\n",
       "    </tr>\n",
       "    <tr>\n",
       "      <th>Upper Lawrenceville</th>\n",
       "      <td>47.00</td>\n",
       "      <td>51.5</td>\n",
       "      <td>42.0</td>\n",
       "    </tr>\n",
       "    <tr>\n",
       "      <th>Westwood</th>\n",
       "      <td>34.00</td>\n",
       "      <td>46.5</td>\n",
       "      <td>72.0</td>\n",
       "    </tr>\n",
       "    <tr>\n",
       "      <th>Windgap</th>\n",
       "      <td>55.50</td>\n",
       "      <td>76.0</td>\n",
       "      <td>40.0</td>\n",
       "    </tr>\n",
       "  </tbody>\n",
       "</table>\n",
       "<p>70 rows × 3 columns</p>\n",
       "</div>"
      ],
      "text/plain": [
       "                     Average Ranking  Walk Score  \\\n",
       "Neighborhood                                       \n",
       "Allegheny West                 84.00         6.0   \n",
       "Allentown                      55.50        35.0   \n",
       "Arlington                      48.50        72.5   \n",
       "Banksville                     21.25        54.5   \n",
       "Bedford Dwellings              75.00        13.5   \n",
       "...                              ...         ...   \n",
       "Terrace Village                46.00        38.5   \n",
       "Upper Hill                     56.50        18.0   \n",
       "Upper Lawrenceville            47.00        51.5   \n",
       "Westwood                       34.00        46.5   \n",
       "Windgap                        55.50        76.0   \n",
       "\n",
       "                     2006-2010 estimate of obesity  \n",
       "Neighborhood                                        \n",
       "Allegheny West                                82.0  \n",
       "Allentown                                     37.0  \n",
       "Arlington                                     43.0  \n",
       "Banksville                                    78.0  \n",
       "Bedford Dwellings                              7.0  \n",
       "...                                            ...  \n",
       "Terrace Village                                5.0  \n",
       "Upper Hill                                    22.0  \n",
       "Upper Lawrenceville                           42.0  \n",
       "Westwood                                      72.0  \n",
       "Windgap                                       40.0  \n",
       "\n",
       "[70 rows x 3 columns]"
      ]
     },
     "execution_count": 63,
     "metadata": {},
     "output_type": "execute_result"
    }
   ],
   "source": [
    "# merge data by neighborhood\n",
    "merged_dataset = pd.merge(pd.merge(rpopden['Average Ranking'], walkScore.rank(ascending=False), on='Neighborhood'), \n",
    "                          obesity_rates_by_neighborhood.rank(ascending=False), on='Neighborhood')\n",
    "merged_dataset"
   ]
  },
  {
   "cell_type": "code",
   "execution_count": 64,
   "metadata": {},
   "outputs": [
    {
     "data": {
      "text/plain": [
       "Neighborhood\n",
       "Central Business District    12.833333\n",
       "East Liberty                 23.500000\n",
       "Lincoln-Lemington-Belmar     27.833333\n",
       "Central Northside            28.500000\n",
       "Garfield                     28.833333\n",
       "Terrace Village              29.833333\n",
       "Homewood South               30.166667\n",
       "Marshall-Shadeland           30.333333\n",
       "Bedford Dwellings            31.833333\n",
       "Upper Hill                   32.166667\n",
       "Name: Overall Ranking, dtype: float64"
      ]
     },
     "execution_count": 64,
     "metadata": {},
     "output_type": "execute_result"
    }
   ],
   "source": [
    "merged_dataset['Overall Ranking'] = (merged_dataset['Average Ranking'] + merged_dataset['Walk Score'] \n",
    "                                     + merged_dataset['2006-2010 estimate of obesity']) / 3\n",
    "overall_ranking = merged_dataset['Overall Ranking'].sort_values(ascending=True)\n",
    "overall_ranking.head(10)"
   ]
  },
  {
   "cell_type": "code",
   "execution_count": 65,
   "metadata": {},
   "outputs": [
    {
     "data": {
      "text/plain": [
       "<matplotlib.axes._subplots.AxesSubplot at 0x7f0ae2027d60>"
      ]
     },
     "execution_count": 65,
     "metadata": {},
     "output_type": "execute_result"
    },
    {
     "data": {
      "image/png": "[encoded data removed]",
      "text/plain": [
       "<Figure size 1440x720 with 1 Axes>"
      ]
     },
     "metadata": {},
     "output_type": "display_data"
    }
   ],
   "source": [
    "plt.style.use('ggplot')\n",
    "plt.ylabel(\"Ranking\")\n",
    "overall_ranking.plot(kind='bar', figsize=(20, 10))"
   ]
  },
  {
   "cell_type": "markdown",
   "metadata": {},
   "source": [
    "<h3>Conclusion</h3>\n"
   ]
  },
  {
   "cell_type": "markdown",
   "metadata": {},
   "source": [
    "After combining our data, we determined the best neighborhood for zombie survival in Pittsburgh is the Central Business District. "
   ]
  },
  {
   "cell_type": "code",
   "execution_count": null,
   "metadata": {},
   "outputs": [],
   "source": []
  }
 ],
 "metadata": {
  "kernelspec": {
   "display_name": "Python 3",
   "language": "python",
   "name": "python3"
  },
  "language_info": {
   "codemirror_mode": {
    "name": "ipython",
    "version": 3
   },
   "file_extension": ".py",
   "mimetype": "text/x-python",
   "name": "python",
   "nbconvert_exporter": "python",
   "pygments_lexer": "ipython3",
   "version": "3.8.3"
  }
 },
 "nbformat": 4,
 "nbformat_minor": 4
}
